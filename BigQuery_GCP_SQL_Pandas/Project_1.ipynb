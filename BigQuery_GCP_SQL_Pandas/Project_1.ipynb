{
 "cells": [
  {
   "cell_type": "markdown",
   "metadata": {},
   "source": [
    "## Whit Blodgett, Project 1, W205.6\n",
    "------\n",
    "### Tools used in this project\n",
    "##### IPYNB\n",
    "##### BigQuery, GCP\n",
    "##### Command Line \n",
    "##### Pandas library\n",
    "##### Seaborn library"
   ]
  },
  {
   "cell_type": "code",
   "execution_count": 52,
   "metadata": {},
   "outputs": [],
   "source": [
    "import pandas as pd\n",
    "import seaborn as sbn"
   ]
  },
  {
   "cell_type": "markdown",
   "metadata": {},
   "source": [
    "# PART I\n",
    "#### Initial queries\n",
    "- What's the size of this dataset? (i.e., how many trips)\n",
    "    '''SELECT COUNT( trip_id )\n",
    "FROM `bigquery-public-data.san_francisco.bikeshare_trips` '''\n",
    "    * 983,648 trips\n",
    "    \n",
    "    \n",
    "- What is the earliest start date and time and latest end date and time for a trip?\n",
    "    '''SELECT min( start_date ), max( end_date )\n",
    "FROM `bigquery-public-data.san_francisco.bikeshare_trips` '''\n",
    "    * Earliest start date & time: 2013-08-29 09:08:00 UTC\n",
    "    * Latest start date & time: 2016-08-31 23:48:00 UTC\n",
    "    \n",
    "    \n",
    "- How many bikes are there?\n",
    "    '''SELECT COUNT( distinct bike_number ) as total_bikes\n",
    "FROM `bigquery-public-data.san_francisco.bikeshare_trips` '''\n",
    "    * 700 bikes total\n",
    "    \n",
    "    \n",
    "#### Questions of your own\n",
    "- What's the average trip duration (in minutues)?\n",
    "    '''SELECT AVG(duration_sec)/60 FROM `bigquery-public-data.san_francisco.bikeshare_trips` '''\n",
    "    * ~17 minutues\n",
    "\n",
    "- How many stations did they install each year? \n",
    "    '''SELECT COUNT(distinct(station_id)) as number_stations_installed, EXTRACT(YEAR FROM installation_date) as year_installed\n",
    " FROM `bigquery-public-data.san_francisco.bikeshare_stations` \n",
    " GROUP BY year_installed\n",
    "'''\n",
    "\n",
    "    * 64 in 2013\n",
    "    * 3 in 2014\n",
    "    * 2 in 2015\n",
    "    * 5 in 2016\n",
    "\n",
    "- Which station has the highest average dock availability? Which has the lowest? \n",
    "    '''SELECT status.station_id, AVG((docks_available)/dockcount)*100 as average_dock_availabiltiy\n",
    "FROM `bigquery-public-data.san_francisco.bikeshare_status` as status\n",
    "JOIN `bigquery-public-data.san_francisco.bikeshare_stations` as stations ON status.station_id=stations.station_id\n",
    "group by station_id\n",
    "order by average_dock_availabiltiy'''\n",
    "\n",
    "    * Station 73 has the lowest number of availble dock space on average, with an average of 40% dockspace available\n",
    "    \n",
    "    * Station 73 has the highest number of availble dock space on average, with an average of 40% dockspace available"
   ]
  },
  {
   "cell_type": "markdown",
   "metadata": {},
   "source": [
    "# PART II\n",
    "#### Queries"
   ]
  },
  {
   "cell_type": "code",
   "execution_count": 14,
   "metadata": {},
   "outputs": [
    {
     "name": "stdout",
     "output_type": "stream",
     "text": [
      "Waiting on bqjob_r4611e5e446b00e6c_00000174d1bbebc3_1 ... (0s) Current status: DONE   \n",
      "f0_\n",
      "983648\n"
     ]
    }
   ],
   "source": [
    "! bq query --use_legacy_sql=FALSE --format=csv 'SELECT COUNT( trip_id ) FROM `bigquery-public-data.san_francisco.bikeshare_trips`'"
   ]
  },
  {
   "cell_type": "code",
   "execution_count": 18,
   "metadata": {},
   "outputs": [
    {
     "name": "stdout",
     "output_type": "stream",
     "text": [
      "Waiting on bqjob_r37e26e1603b77ad2_00000174d1c1aa82_1 ... (0s) Current status: DONE   \n",
      "Min,Max\n",
      "2013-08-29 09:08:00,2016-08-31 23:48:00\n"
     ]
    }
   ],
   "source": [
    "! bq query --use_legacy_sql=FALSE --format=csv 'SELECT min( start_date ) as Min, max( end_date ) as Max FROM `bigquery-public-data.san_francisco.bikeshare_trips`'"
   ]
  },
  {
   "cell_type": "code",
   "execution_count": 17,
   "metadata": {},
   "outputs": [
    {
     "name": "stdout",
     "output_type": "stream",
     "text": [
      "Waiting on bqjob_r67affb1fe105ca13_00000174d1bd8e42_1 ... (0s) Current status: DONE   \n",
      "total_bikes\n",
      "700\n"
     ]
    }
   ],
   "source": [
    "! bq query --use_legacy_sql=FALSE --format=csv 'SELECT COUNT( distinct bike_number ) as total_bikes FROM `bigquery-public-data.san_francisco.bikeshare_trips` '"
   ]
  },
  {
   "cell_type": "markdown",
   "metadata": {},
   "source": [
    "### New Queries\n",
    " * How many trips are in the morning vs in the afternoon?"
   ]
  },
  {
   "cell_type": "code",
   "execution_count": 24,
   "metadata": {},
   "outputs": [
    {
     "name": "stdout",
     "output_type": "stream",
     "text": [
      "Waiting on bqjob_r106b714c03129a69_00000174d1f737fa_1 ... (0s) Current status: DONE   \n",
      "time_of_day,f0_\n",
      "AM,538637\n",
      "PM,445011\n"
     ]
    }
   ],
   "source": [
    "! bq query --use_legacy_sql=FALSE --format=csv 'SELECT CASE WHEN (CAST(EXTRACT(HOUR FROM end_date) AS INT64)) > 12 THEN \"AM\" WHEN (CAST(EXTRACT(HOUR FROM end_date) AS INT64)) <= 12.0 THEN \"PM\" ELSE Null END AS time_of_day, count(*) FROM `bigquery-public-data.san_francisco.bikeshare_trips` GROUP BY time_of_day'"
   ]
  },
  {
   "cell_type": "markdown",
   "metadata": {},
   "source": [
    "There were 538,637 trips completed before 12pm.\n",
    "There were 445,011 trips completed at or following 12pm. "
   ]
  },
  {
   "cell_type": "markdown",
   "metadata": {},
   "source": [
    "### Problem Statement \n",
    "  * What are the 5 most popular trips that you would call \"commuter trips\"? \n",
    "  \n",
    "See table below for top 5 trips during commuter hours. Some notes on the analysis here, I assumed commuter trips were anything between 6-10am & 4-7pm. One update I would make if given the time would be to require the pickup station_id to be different from the drop off station_id, as this would also indicate a \"commute\" ie going from one place to another. Still, one could argue that a commute could be a mother biking her kids to school before returning the bike to the same station...though this would be a stretch!  "
   ]
  },
  {
   "cell_type": "code",
   "execution_count": 54,
   "metadata": {},
   "outputs": [
    {
     "data": {
      "text/html": [
       "<div>\n",
       "<style scoped>\n",
       "    .dataframe tbody tr th:only-of-type {\n",
       "        vertical-align: middle;\n",
       "    }\n",
       "\n",
       "    .dataframe tbody tr th {\n",
       "        vertical-align: top;\n",
       "    }\n",
       "\n",
       "    .dataframe thead th {\n",
       "        text-align: right;\n",
       "    }\n",
       "</style>\n",
       "<table border=\"1\" class=\"dataframe\">\n",
       "  <thead>\n",
       "    <tr style=\"text-align: right;\">\n",
       "      <th></th>\n",
       "      <th>time_of_commute</th>\n",
       "      <th>trip_count</th>\n",
       "    </tr>\n",
       "  </thead>\n",
       "  <tbody>\n",
       "    <tr>\n",
       "      <th>1</th>\n",
       "      <td>San Francisco Caltrain 2 (330 Townsend) to Townsend at 7th</td>\n",
       "      <td>6469</td>\n",
       "    </tr>\n",
       "    <tr>\n",
       "      <th>2</th>\n",
       "      <td>Harry Bridges Plaza (Ferry Building) to Embarcadero at Sansome</td>\n",
       "      <td>5917</td>\n",
       "    </tr>\n",
       "    <tr>\n",
       "      <th>3</th>\n",
       "      <td>Harry Bridges Plaza (Ferry Building) to 2nd at Townsend</td>\n",
       "      <td>5875</td>\n",
       "    </tr>\n",
       "    <tr>\n",
       "      <th>4</th>\n",
       "      <td>2nd at Townsend to Harry Bridges Plaza (Ferry Building)</td>\n",
       "      <td>5718</td>\n",
       "    </tr>\n",
       "    <tr>\n",
       "      <th>5</th>\n",
       "      <td>Embarcadero at Sansome to Steuart at Market</td>\n",
       "      <td>5463</td>\n",
       "    </tr>\n",
       "  </tbody>\n",
       "</table>\n",
       "</div>"
      ],
      "text/plain": [
       "                                                  time_of_commute  trip_count\n",
       "1      San Francisco Caltrain 2 (330 Townsend) to Townsend at 7th        6469\n",
       "2  Harry Bridges Plaza (Ferry Building) to Embarcadero at Sansome        5917\n",
       "3         Harry Bridges Plaza (Ferry Building) to 2nd at Townsend        5875\n",
       "4         2nd at Townsend to Harry Bridges Plaza (Ferry Building)        5718\n",
       "5                     Embarcadero at Sansome to Steuart at Market        5463"
      ]
     },
     "execution_count": 54,
     "metadata": {},
     "output_type": "execute_result"
    }
   ],
   "source": [
    "pd.set_option('display.max_colwidth', None)\n",
    "popular_commute_routes = popular_commute_routes.iloc[1:]\n",
    "popular_commute_routes"
   ]
  },
  {
   "cell_type": "markdown",
   "metadata": {},
   "source": [
    "  * What are your recommendations for offers (justify based on your findings)? See analysis and discussion at bottom of page!"
   ]
  },
  {
   "cell_type": "markdown",
   "metadata": {},
   "source": [
    "### Project Questions\n",
    "### 1. What are the most popular routes ranked by trip count?\n",
    "\n",
    "'''SELECT CONCAT(start_station_name, \" to \", end_station_name) as route, count(*) as count\n",
    "FROM `bigquery-public-data.san_francisco.bikeshare_trips` \n",
    "group by route \n",
    "ORDER BY count DESC'''\n",
    "\n",
    "    * The most popular route is from Harry Bridges Plaza (Ferry Building) to Embarcadero at Sansome. See table below for ranking. "
   ]
  },
  {
   "cell_type": "code",
   "execution_count": 34,
   "metadata": {},
   "outputs": [],
   "source": [
    "%%bigquery popular_routes\n",
    "SELECT CONCAT(start_station_name, \" to \", end_station_name) as route, count(*) as count\n",
    "FROM `bigquery-public-data.san_francisco.bikeshare_trips` \n",
    "group by route \n",
    "ORDER BY count DESC"
   ]
  },
  {
   "cell_type": "code",
   "execution_count": 35,
   "metadata": {},
   "outputs": [
    {
     "data": {
      "text/html": [
       "<div>\n",
       "<style scoped>\n",
       "    .dataframe tbody tr th:only-of-type {\n",
       "        vertical-align: middle;\n",
       "    }\n",
       "\n",
       "    .dataframe tbody tr th {\n",
       "        vertical-align: top;\n",
       "    }\n",
       "\n",
       "    .dataframe thead th {\n",
       "        text-align: right;\n",
       "    }\n",
       "</style>\n",
       "<table border=\"1\" class=\"dataframe\">\n",
       "  <thead>\n",
       "    <tr style=\"text-align: right;\">\n",
       "      <th></th>\n",
       "      <th>route</th>\n",
       "      <th>count</th>\n",
       "    </tr>\n",
       "  </thead>\n",
       "  <tbody>\n",
       "    <tr>\n",
       "      <th>0</th>\n",
       "      <td>Harry Bridges Plaza (Ferry Building) to Embarcadero at Sansome</td>\n",
       "      <td>9150</td>\n",
       "    </tr>\n",
       "    <tr>\n",
       "      <th>1</th>\n",
       "      <td>San Francisco Caltrain 2 (330 Townsend) to Townsend at 7th</td>\n",
       "      <td>8508</td>\n",
       "    </tr>\n",
       "    <tr>\n",
       "      <th>2</th>\n",
       "      <td>2nd at Townsend to Harry Bridges Plaza (Ferry Building)</td>\n",
       "      <td>7620</td>\n",
       "    </tr>\n",
       "    <tr>\n",
       "      <th>3</th>\n",
       "      <td>Harry Bridges Plaza (Ferry Building) to 2nd at Townsend</td>\n",
       "      <td>6888</td>\n",
       "    </tr>\n",
       "    <tr>\n",
       "      <th>4</th>\n",
       "      <td>Embarcadero at Sansome to Steuart at Market</td>\n",
       "      <td>6874</td>\n",
       "    </tr>\n",
       "    <tr>\n",
       "      <th>...</th>\n",
       "      <td>...</td>\n",
       "      <td>...</td>\n",
       "    </tr>\n",
       "    <tr>\n",
       "      <th>2134</th>\n",
       "      <td>Paseo de San Antonio to San Francisco Caltrain (Townsend at 4th)</td>\n",
       "      <td>1</td>\n",
       "    </tr>\n",
       "    <tr>\n",
       "      <th>2135</th>\n",
       "      <td>Santa Clara at Almaden to San Francisco Caltrain (Townsend at 4th)</td>\n",
       "      <td>1</td>\n",
       "    </tr>\n",
       "    <tr>\n",
       "      <th>2136</th>\n",
       "      <td>San Antonio Shopping Center to San Francisco Caltrain (Townsend at 4th)</td>\n",
       "      <td>1</td>\n",
       "    </tr>\n",
       "    <tr>\n",
       "      <th>2137</th>\n",
       "      <td>Mountain View Caltrain Station to San Francisco Caltrain (Townsend at 4th)</td>\n",
       "      <td>1</td>\n",
       "    </tr>\n",
       "    <tr>\n",
       "      <th>2138</th>\n",
       "      <td>California Ave Caltrain Station to San Francisco Caltrain (Townsend at 4th)</td>\n",
       "      <td>1</td>\n",
       "    </tr>\n",
       "  </tbody>\n",
       "</table>\n",
       "<p>2139 rows × 2 columns</p>\n",
       "</div>"
      ],
      "text/plain": [
       "                                                                            route  \\\n",
       "0                  Harry Bridges Plaza (Ferry Building) to Embarcadero at Sansome   \n",
       "1                      San Francisco Caltrain 2 (330 Townsend) to Townsend at 7th   \n",
       "2                         2nd at Townsend to Harry Bridges Plaza (Ferry Building)   \n",
       "3                         Harry Bridges Plaza (Ferry Building) to 2nd at Townsend   \n",
       "4                                     Embarcadero at Sansome to Steuart at Market   \n",
       "...                                                                           ...   \n",
       "2134             Paseo de San Antonio to San Francisco Caltrain (Townsend at 4th)   \n",
       "2135           Santa Clara at Almaden to San Francisco Caltrain (Townsend at 4th)   \n",
       "2136      San Antonio Shopping Center to San Francisco Caltrain (Townsend at 4th)   \n",
       "2137   Mountain View Caltrain Station to San Francisco Caltrain (Townsend at 4th)   \n",
       "2138  California Ave Caltrain Station to San Francisco Caltrain (Townsend at 4th)   \n",
       "\n",
       "      count  \n",
       "0      9150  \n",
       "1      8508  \n",
       "2      7620  \n",
       "3      6888  \n",
       "4      6874  \n",
       "...     ...  \n",
       "2134      1  \n",
       "2135      1  \n",
       "2136      1  \n",
       "2137      1  \n",
       "2138      1  \n",
       "\n",
       "[2139 rows x 2 columns]"
      ]
     },
     "execution_count": 35,
     "metadata": {},
     "output_type": "execute_result"
    }
   ],
   "source": [
    "pd.set_option('display.max_colwidth', None)\n",
    "popular_routes"
   ]
  },
  {
   "cell_type": "markdown",
   "metadata": {},
   "source": [
    "### 2. What's the 5 most popular routes between 6-10am & 4pm-7pm (ie commuter times)?\n",
    "\n",
    "'''SELECT CASE WHEN (CAST(EXTRACT(HOUR FROM end_date) AS INT64)) BETWEEN 6 AND 10 THEN CONCAT(start_station_name, \" to \", end_station_name)\n",
    "WHEN (CAST(EXTRACT(HOUR FROM end_date) AS INT64)) BETWEEN 16 AND 19 THEN CONCAT(start_station_name, \" to \", end_station_name)\n",
    "ELSE \"Off-peak\"\n",
    "END AS time_of_commute, count(*) as trip_count\n",
    "#CASE WHEN CAST(EXTRACT(HOUR FROM end_date) AS NUMERIC) >12 THEN 'AM' WHEN CAST(EXTRACT(HOUR FROM end_date) AS NUMERIC) <11 THEN 'PM' ELSE NULL\n",
    "FROM `bigquery-public-data.san_francisco.bikeshare_trips`\n",
    "GROUP BY time_of_commute\n",
    "ORDER BY trip_count DESC\n",
    "LIMIT 6'''\n",
    "\n",
    "    * See table below"
   ]
  },
  {
   "cell_type": "code",
   "execution_count": 47,
   "metadata": {},
   "outputs": [],
   "source": [
    "%%bigquery popular_commute_routes\n",
    "SELECT CASE WHEN (CAST(EXTRACT(HOUR FROM end_date) AS INT64)) BETWEEN 6 AND 10 THEN CONCAT(start_station_name, \" to \", end_station_name)\n",
    "WHEN (CAST(EXTRACT(HOUR FROM end_date) AS INT64)) BETWEEN 16 AND 19 THEN CONCAT(start_station_name, \" to \", end_station_name)\n",
    "ELSE \"Off-peak\"\n",
    "END AS time_of_commute, count(*) as trip_count\n",
    "#CASE WHEN CAST(EXTRACT(HOUR FROM end_date) AS NUMERIC) >12 THEN 'AM' WHEN CAST(EXTRACT(HOUR FROM end_date) AS NUMERIC) <11 THEN 'PM' ELSE NULL\n",
    "FROM `bigquery-public-data.san_francisco.bikeshare_trips`\n",
    "GROUP BY time_of_commute\n",
    "ORDER BY trip_count DESC\n",
    "LIMIT 6"
   ]
  },
  {
   "cell_type": "code",
   "execution_count": 53,
   "metadata": {},
   "outputs": [
    {
     "data": {
      "text/html": [
       "<div>\n",
       "<style scoped>\n",
       "    .dataframe tbody tr th:only-of-type {\n",
       "        vertical-align: middle;\n",
       "    }\n",
       "\n",
       "    .dataframe tbody tr th {\n",
       "        vertical-align: top;\n",
       "    }\n",
       "\n",
       "    .dataframe thead th {\n",
       "        text-align: right;\n",
       "    }\n",
       "</style>\n",
       "<table border=\"1\" class=\"dataframe\">\n",
       "  <thead>\n",
       "    <tr style=\"text-align: right;\">\n",
       "      <th></th>\n",
       "      <th>time_of_commute</th>\n",
       "      <th>trip_count</th>\n",
       "    </tr>\n",
       "  </thead>\n",
       "  <tbody>\n",
       "    <tr>\n",
       "      <th>0</th>\n",
       "      <td>Off-peak</td>\n",
       "      <td>278979</td>\n",
       "    </tr>\n",
       "    <tr>\n",
       "      <th>1</th>\n",
       "      <td>San Francisco Caltrain 2 (330 Townsend) to Townsend at 7th</td>\n",
       "      <td>6469</td>\n",
       "    </tr>\n",
       "    <tr>\n",
       "      <th>2</th>\n",
       "      <td>Harry Bridges Plaza (Ferry Building) to Embarcadero at Sansome</td>\n",
       "      <td>5917</td>\n",
       "    </tr>\n",
       "    <tr>\n",
       "      <th>3</th>\n",
       "      <td>Harry Bridges Plaza (Ferry Building) to 2nd at Townsend</td>\n",
       "      <td>5875</td>\n",
       "    </tr>\n",
       "    <tr>\n",
       "      <th>4</th>\n",
       "      <td>2nd at Townsend to Harry Bridges Plaza (Ferry Building)</td>\n",
       "      <td>5718</td>\n",
       "    </tr>\n",
       "    <tr>\n",
       "      <th>5</th>\n",
       "      <td>Embarcadero at Sansome to Steuart at Market</td>\n",
       "      <td>5463</td>\n",
       "    </tr>\n",
       "  </tbody>\n",
       "</table>\n",
       "</div>"
      ],
      "text/plain": [
       "                                                  time_of_commute  trip_count\n",
       "0                                                        Off-peak      278979\n",
       "1      San Francisco Caltrain 2 (330 Townsend) to Townsend at 7th        6469\n",
       "2  Harry Bridges Plaza (Ferry Building) to Embarcadero at Sansome        5917\n",
       "3         Harry Bridges Plaza (Ferry Building) to 2nd at Townsend        5875\n",
       "4         2nd at Townsend to Harry Bridges Plaza (Ferry Building)        5718\n",
       "5                     Embarcadero at Sansome to Steuart at Market        5463"
      ]
     },
     "execution_count": 53,
     "metadata": {},
     "output_type": "execute_result"
    }
   ],
   "source": [
    "pd.set_option('display.max_colwidth', None)\n",
    "popular_commute_routes"
   ]
  },
  {
   "cell_type": "markdown",
   "metadata": {},
   "source": [
    "### 3. What's the share breakdown between all the different types of customers?\n",
    "\n",
    "'''SELECT distinct subscriber_type, COUNT(subscriber_type) as count, CONCAT(ROUND(COUNT(subscriber_type)/983648*100, 2),\"%\") as share\n",
    "FROM `bigquery-public-data.san_francisco.bikeshare_trips` \n",
    "group by subscriber_type'''\n",
    "\n",
    "    * See table below"
   ]
  },
  {
   "cell_type": "code",
   "execution_count": 55,
   "metadata": {},
   "outputs": [],
   "source": [
    "%%bigquery customer_breakdown\n",
    "SELECT distinct subscriber_type, COUNT(subscriber_type) as count, CONCAT(ROUND(COUNT(subscriber_type)/983648*100, 2),\"%\") as share\n",
    "FROM `bigquery-public-data.san_francisco.bikeshare_trips` \n",
    "group by subscriber_type"
   ]
  },
  {
   "cell_type": "code",
   "execution_count": 56,
   "metadata": {},
   "outputs": [
    {
     "data": {
      "text/html": [
       "<div>\n",
       "<style scoped>\n",
       "    .dataframe tbody tr th:only-of-type {\n",
       "        vertical-align: middle;\n",
       "    }\n",
       "\n",
       "    .dataframe tbody tr th {\n",
       "        vertical-align: top;\n",
       "    }\n",
       "\n",
       "    .dataframe thead th {\n",
       "        text-align: right;\n",
       "    }\n",
       "</style>\n",
       "<table border=\"1\" class=\"dataframe\">\n",
       "  <thead>\n",
       "    <tr style=\"text-align: right;\">\n",
       "      <th></th>\n",
       "      <th>subscriber_type</th>\n",
       "      <th>count</th>\n",
       "      <th>share</th>\n",
       "    </tr>\n",
       "  </thead>\n",
       "  <tbody>\n",
       "    <tr>\n",
       "      <th>0</th>\n",
       "      <td>Customer</td>\n",
       "      <td>136809</td>\n",
       "      <td>13.91%</td>\n",
       "    </tr>\n",
       "    <tr>\n",
       "      <th>1</th>\n",
       "      <td>Subscriber</td>\n",
       "      <td>846839</td>\n",
       "      <td>86.09%</td>\n",
       "    </tr>\n",
       "  </tbody>\n",
       "</table>\n",
       "</div>"
      ],
      "text/plain": [
       "  subscriber_type   count   share\n",
       "0        Customer  136809  13.91%\n",
       "1      Subscriber  846839  86.09%"
      ]
     },
     "execution_count": 56,
     "metadata": {},
     "output_type": "execute_result"
    }
   ],
   "source": [
    "pd.set_option('display.max_colwidth', None)\n",
    "customer_breakdown"
   ]
  },
  {
   "cell_type": "markdown",
   "metadata": {},
   "source": [
    "### 4. What's the average monthly trip count for a year over all the years of data (ie what's the seasonal behavior of customers)?\n",
    "\n",
    "'''SELECT trip_id, end_date, subscriber_type, start_station_id, end_station_id, (CAST(EXTRACT(HOUR FROM end_date) AS INT64)) as hour, (CAST(EXTRACT(MONTH FROM end_date) AS INT64)) as month, (CAST(EXTRACT(YEAR FROM end_date) AS INT64)) as year\n",
    "FROM `bigquery-public-data.san_francisco.bikeshare_trips` '''\n",
    "\n",
    "    * See graph below"
   ]
  },
  {
   "cell_type": "code",
   "execution_count": null,
   "metadata": {},
   "outputs": [],
   "source": [
    "%%bigquery trips_overview\n",
    "SELECT trip_id, end_date, subscriber_type, start_station_id, end_station_id, (CAST(EXTRACT(HOUR FROM end_date) AS INT64)) as hour, (CAST(EXTRACT(MONTH FROM end_date) AS INT64)) as month, (CAST(EXTRACT(YEAR FROM end_date) AS INT64)) as year\n",
    "FROM `bigquery-public-data.san_francisco.bikeshare_trips` \n",
    "\n"
   ]
  },
  {
   "cell_type": "code",
   "execution_count": 61,
   "metadata": {},
   "outputs": [
    {
     "data": {
      "text/html": [
       "<div>\n",
       "<style scoped>\n",
       "    .dataframe tbody tr th:only-of-type {\n",
       "        vertical-align: middle;\n",
       "    }\n",
       "\n",
       "    .dataframe tbody tr th {\n",
       "        vertical-align: top;\n",
       "    }\n",
       "\n",
       "    .dataframe thead th {\n",
       "        text-align: right;\n",
       "    }\n",
       "</style>\n",
       "<table border=\"1\" class=\"dataframe\">\n",
       "  <thead>\n",
       "    <tr style=\"text-align: right;\">\n",
       "      <th></th>\n",
       "      <th>trip_id</th>\n",
       "      <th>end_date</th>\n",
       "      <th>subscriber_type</th>\n",
       "      <th>start_station_id</th>\n",
       "      <th>end_station_id</th>\n",
       "      <th>hour</th>\n",
       "      <th>month</th>\n",
       "      <th>year</th>\n",
       "    </tr>\n",
       "  </thead>\n",
       "  <tbody>\n",
       "    <tr>\n",
       "      <th>0</th>\n",
       "      <td>944732</td>\n",
       "      <td>2015-09-24 18:06:00+00:00</td>\n",
       "      <td>Customer</td>\n",
       "      <td>83</td>\n",
       "      <td>83</td>\n",
       "      <td>18</td>\n",
       "      <td>9</td>\n",
       "      <td>2015</td>\n",
       "    </tr>\n",
       "    <tr>\n",
       "      <th>1</th>\n",
       "      <td>984595</td>\n",
       "      <td>2015-10-25 19:51:00+00:00</td>\n",
       "      <td>Customer</td>\n",
       "      <td>83</td>\n",
       "      <td>83</td>\n",
       "      <td>19</td>\n",
       "      <td>10</td>\n",
       "      <td>2015</td>\n",
       "    </tr>\n",
       "    <tr>\n",
       "      <th>2</th>\n",
       "      <td>984596</td>\n",
       "      <td>2015-10-25 19:51:00+00:00</td>\n",
       "      <td>Customer</td>\n",
       "      <td>83</td>\n",
       "      <td>83</td>\n",
       "      <td>19</td>\n",
       "      <td>10</td>\n",
       "      <td>2015</td>\n",
       "    </tr>\n",
       "    <tr>\n",
       "      <th>3</th>\n",
       "      <td>1129385</td>\n",
       "      <td>2016-03-18 12:14:00+00:00</td>\n",
       "      <td>Customer</td>\n",
       "      <td>83</td>\n",
       "      <td>83</td>\n",
       "      <td>12</td>\n",
       "      <td>3</td>\n",
       "      <td>2016</td>\n",
       "    </tr>\n",
       "    <tr>\n",
       "      <th>4</th>\n",
       "      <td>1030383</td>\n",
       "      <td>2015-12-06 12:28:00+00:00</td>\n",
       "      <td>Customer</td>\n",
       "      <td>83</td>\n",
       "      <td>83</td>\n",
       "      <td>12</td>\n",
       "      <td>12</td>\n",
       "      <td>2015</td>\n",
       "    </tr>\n",
       "    <tr>\n",
       "      <th>...</th>\n",
       "      <td>...</td>\n",
       "      <td>...</td>\n",
       "      <td>...</td>\n",
       "      <td>...</td>\n",
       "      <td>...</td>\n",
       "      <td>...</td>\n",
       "      <td>...</td>\n",
       "      <td>...</td>\n",
       "    </tr>\n",
       "    <tr>\n",
       "      <th>983643</th>\n",
       "      <td>224005</td>\n",
       "      <td>2014-03-22 22:00:00+00:00</td>\n",
       "      <td>Customer</td>\n",
       "      <td>68</td>\n",
       "      <td>68</td>\n",
       "      <td>22</td>\n",
       "      <td>3</td>\n",
       "      <td>2014</td>\n",
       "    </tr>\n",
       "    <tr>\n",
       "      <th>983644</th>\n",
       "      <td>1292797</td>\n",
       "      <td>2016-07-27 18:00:00+00:00</td>\n",
       "      <td>Customer</td>\n",
       "      <td>68</td>\n",
       "      <td>68</td>\n",
       "      <td>18</td>\n",
       "      <td>7</td>\n",
       "      <td>2016</td>\n",
       "    </tr>\n",
       "    <tr>\n",
       "      <th>983645</th>\n",
       "      <td>246039</td>\n",
       "      <td>2014-04-12 14:48:00+00:00</td>\n",
       "      <td>Customer</td>\n",
       "      <td>68</td>\n",
       "      <td>68</td>\n",
       "      <td>14</td>\n",
       "      <td>4</td>\n",
       "      <td>2014</td>\n",
       "    </tr>\n",
       "    <tr>\n",
       "      <th>983646</th>\n",
       "      <td>138370</td>\n",
       "      <td>2013-12-30 17:07:00+00:00</td>\n",
       "      <td>Customer</td>\n",
       "      <td>68</td>\n",
       "      <td>68</td>\n",
       "      <td>17</td>\n",
       "      <td>12</td>\n",
       "      <td>2013</td>\n",
       "    </tr>\n",
       "    <tr>\n",
       "      <th>983647</th>\n",
       "      <td>149518</td>\n",
       "      <td>2014-01-10 18:01:00+00:00</td>\n",
       "      <td>Customer</td>\n",
       "      <td>68</td>\n",
       "      <td>68</td>\n",
       "      <td>18</td>\n",
       "      <td>1</td>\n",
       "      <td>2014</td>\n",
       "    </tr>\n",
       "  </tbody>\n",
       "</table>\n",
       "<p>983648 rows × 8 columns</p>\n",
       "</div>"
      ],
      "text/plain": [
       "        trip_id                  end_date subscriber_type  start_station_id  \\\n",
       "0        944732 2015-09-24 18:06:00+00:00        Customer                83   \n",
       "1        984595 2015-10-25 19:51:00+00:00        Customer                83   \n",
       "2        984596 2015-10-25 19:51:00+00:00        Customer                83   \n",
       "3       1129385 2016-03-18 12:14:00+00:00        Customer                83   \n",
       "4       1030383 2015-12-06 12:28:00+00:00        Customer                83   \n",
       "...         ...                       ...             ...               ...   \n",
       "983643   224005 2014-03-22 22:00:00+00:00        Customer                68   \n",
       "983644  1292797 2016-07-27 18:00:00+00:00        Customer                68   \n",
       "983645   246039 2014-04-12 14:48:00+00:00        Customer                68   \n",
       "983646   138370 2013-12-30 17:07:00+00:00        Customer                68   \n",
       "983647   149518 2014-01-10 18:01:00+00:00        Customer                68   \n",
       "\n",
       "        end_station_id  hour  month  year  \n",
       "0                   83    18      9  2015  \n",
       "1                   83    19     10  2015  \n",
       "2                   83    19     10  2015  \n",
       "3                   83    12      3  2016  \n",
       "4                   83    12     12  2015  \n",
       "...                ...   ...    ...   ...  \n",
       "983643              68    22      3  2014  \n",
       "983644              68    18      7  2016  \n",
       "983645              68    14      4  2014  \n",
       "983646              68    17     12  2013  \n",
       "983647              68    18      1  2014  \n",
       "\n",
       "[983648 rows x 8 columns]"
      ]
     },
     "execution_count": 61,
     "metadata": {},
     "output_type": "execute_result"
    }
   ],
   "source": [
    "trips_overview"
   ]
  },
  {
   "cell_type": "code",
   "execution_count": 4,
   "metadata": {},
   "outputs": [],
   "source": [
    "trips_overview = trips_overview.loc[:, ['month','trip_id']]\n",
    "trips_overview = trips_overview.groupby('month').count()"
   ]
  },
  {
   "cell_type": "code",
   "execution_count": 13,
   "metadata": {},
   "outputs": [],
   "source": [
    "trips_overview.reset_index(inplace=True)"
   ]
  },
  {
   "cell_type": "code",
   "execution_count": 55,
   "metadata": {},
   "outputs": [
    {
     "data": {
      "text/plain": [
       "[Text(0.5, 1.0, 'Average rides per month, 2013-2016'),\n",
       " Text(0, 0.5, 'Trip Count'),\n",
       " Text(0.5, 0, 'Month')]"
      ]
     },
     "execution_count": 55,
     "metadata": {},
     "output_type": "execute_result"
    },
    {
     "data": {
      "image/png": "[encoded data removed]",
      "text/plain": [
       "<Figure size 432x288 with 1 Axes>"
      ]
     },
     "metadata": {
      "needs_background": "light"
     },
     "output_type": "display_data"
    }
   ],
   "source": [
    "ax = sbn.barplot(x=\"month\",y=\"trip_id\",data=trips_overview)\n",
    "ax.set(title=\"Average rides per month, 2013-2016\", ylabel=\"Trip Count\", xlabel=\"Month\")"
   ]
  },
  {
   "cell_type": "markdown",
   "metadata": {},
   "source": [
    "### 5. On average, over a day is there any noticable difference in the behavior between subscribers and one-off customers?\n",
    "\n",
    "'''SELECT trip_id, end_date, subscriber_type,(CAST(EXTRACT(HOUR FROM end_date) AS INT64)) as hour, ROUND(duration_sec/60,2) as duration_mins\n",
    "FROM `bigquery-public-data.san_francisco.bikeshare_trips` '''\n",
    "\n",
    "* One-off customers have a much higher average trip duration \n",
    "* The variance in trip behavior throughout a day is different between the two. "
   ]
  },
  {
   "cell_type": "code",
   "execution_count": 31,
   "metadata": {},
   "outputs": [],
   "source": [
    "%%bigquery trips_duration\n",
    "SELECT trip_id, end_date, subscriber_type,(CAST(EXTRACT(HOUR FROM end_date) AS INT64)) as hour, ROUND(duration_sec/60,2) as duration_mins\n",
    "FROM `bigquery-public-data.san_francisco.bikeshare_trips` "
   ]
  },
  {
   "cell_type": "code",
   "execution_count": 64,
   "metadata": {},
   "outputs": [
    {
     "data": {
      "text/plain": [
       "[Text(0.5, 1.0, 'Average trip duration by customer type'),\n",
       " Text(0, 0.5, 'Trip Duration (mins)'),\n",
       " Text(0.5, 0, 'Hour')]"
      ]
     },
     "execution_count": 64,
     "metadata": {},
     "output_type": "execute_result"
    },
    {
     "data": {
      "image/png": "[encoded data removed]",
      "text/plain": [
       "<Figure size 432x288 with 1 Axes>"
      ]
     },
     "metadata": {
      "needs_background": "light"
     },
     "output_type": "display_data"
    }
   ],
   "source": [
    "trips_duration\n",
    "ax2 = sbn.barplot(x=\"hour\",y=\"duration_mins\",hue=\"subscriber_type\",data=trips_duration)\n",
    "ax2.set(title=\"Average trip duration by customer type\", ylabel=\"Trip Duration (mins)\", xlabel=\"Hour\")\n",
    "# ax2.set_yscale(\"log\")"
   ]
  },
  {
   "cell_type": "code",
   "execution_count": 65,
   "metadata": {},
   "outputs": [
    {
     "data": {
      "image/png": "[encoded data removed]",
      "text/plain": [
       "<Figure size 432x288 with 1 Axes>"
      ]
     },
     "metadata": {
      "needs_background": "light"
     },
     "output_type": "display_data"
    }
   ],
   "source": [
    "trips_duration\n",
    "ax2 = sbn.barplot(x=\"hour\",y=\"duration_mins\",hue=\"subscriber_type\",data=trips_duration)\n",
    "ax2.set(title=\"Average trip duration by customer type (LOG scale)\", ylabel=\"Trip Duration (mins)\", xlabel=\"Hour\")\n",
    "ax2.set_yscale(\"log\")"
   ]
  },
  {
   "cell_type": "markdown",
   "metadata": {},
   "source": [
    "## Recommendation:\n",
    "To increase ridership, my recommendation is the following: \n",
    "Lyft is missing a huge opertunity to rent bikes to tourists visiting the city. One-off customer business is quite low (\\~14% of total) and represents a huge oppertunity for growth. Tourists visiting the city are unlikely to have normal means to get around and are prime targets for one-off business. Lyft could offer all riders from SFO into a location with a Dock a voucher for discounted rides. This could be 5 minutues of free time - since we know the average trip length for one-off customers is considerably longer than a subscriber (\\~60 mins)."
   ]
  },
  {
   "cell_type": "code",
   "execution_count": null,
   "metadata": {},
   "outputs": [],
   "source": []
  }
 ],
 "metadata": {
  "environment": {
   "name": "tf2-gpu.2-1.m55",
   "type": "gcloud",
   "uri": "gcr.io/deeplearning-platform-release/tf2-gpu.2-1:m55"
  },
  "kernelspec": {
   "display_name": "Python 3",
   "language": "python",
   "name": "python3"
  },
  "language_info": {
   "codemirror_mode": {
    "name": "ipython",
    "version": 3
   },
   "file_extension": ".py",
   "mimetype": "text/x-python",
   "name": "python",
   "nbconvert_exporter": "python",
   "pygments_lexer": "ipython3",
   "version": "3.7.8"
  }
 },
 "nbformat": 4,
 "nbformat_minor": 4
}
